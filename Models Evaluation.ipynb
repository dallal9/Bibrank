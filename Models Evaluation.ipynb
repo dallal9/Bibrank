{
 "cells": [
  {
   "cell_type": "markdown",
   "metadata": {},
   "source": [
    "## Models Evaluation"
   ]
  },
  {
   "cell_type": "markdown",
   "metadata": {},
   "source": [
    "### BibRank"
   ]
  },
  {
   "cell_type": "code",
   "execution_count": 1,
   "metadata": {},
   "outputs": [],
   "source": [
    "import sys\n",
    "sys.path.append(\"Models/\")\n",
    "from Models import *\n",
    "from KeyEval import *"
   ]
  },
  {
   "cell_type": "code",
   "execution_count": 2,
   "metadata": {},
   "outputs": [
    {
     "name": "stdout",
     "output_type": "stream",
     "text": [
      "(1222, 22)\n",
      "1990    449\n",
      "1989    438\n",
      "1988    335\n",
      "Name: year, dtype: int64\n",
      "(1518, 22)\n",
      "1985    366\n",
      "1984    302\n",
      "1986    299\n",
      "1983    188\n",
      "1982    163\n",
      "1980    101\n",
      "1981     99\n",
      "Name: year, dtype: int64\n"
     ]
    },
    {
     "name": "stderr",
     "output_type": "stream",
     "text": [
      "100%|███████████████████████████████████████████████████████████████████████████████████████████| 1222/1222 [01:22<00:00, 14.85it/s]\n"
     ]
    }
   ],
   "source": [
    "bib_weights= {\"dataset\":\"Datasets/DataFiles/bib_tug_dataset_full.parquet\", \"year1\":1980, \"year2\":1986, \"types\":[\"compsci\"]}\n",
    "model = BibRank()\n",
    "all_scores, all_scores_adjust = eval_file(\"Datasets/DataFiles/bib_tug_dataset_full.parquet\", model,model_param = [\"weights from 1980 1986\"] ,year1=1988, year2=1990, types=[\"compsci\"] ,bib_weights=bib_weights, log=True)\n"
   ]
  },
  {
   "cell_type": "code",
   "execution_count": 3,
   "metadata": {},
   "outputs": [
    {
     "name": "stdout",
     "output_type": "stream",
     "text": [
      "[0.12607415253917542, 0.11282607638565799, 0.17733191749149127, 0.3492169417533351] [0.18880094202511474, 0.27545219192781595, 0.19313690122513577, 0.5442042881882647]\n"
     ]
    }
   ],
   "source": [
    "print(all_scores, all_scores_adjust )"
   ]
  },
  {
   "cell_type": "markdown",
   "metadata": {},
   "source": [
    "## Other models"
   ]
  },
  {
   "cell_type": "markdown",
   "metadata": {},
   "source": [
    "Both `PKE` and `Textacy` implementations are called as follows:  "
   ]
  },
  {
   "cell_type": "code",
   "execution_count": 4,
   "metadata": {},
   "outputs": [
    {
     "name": "stderr",
     "output_type": "stream",
     "text": [
      "  0%|                                                                                                      | 0/1222 [00:00<?, ?it/s]"
     ]
    },
    {
     "name": "stdout",
     "output_type": "stream",
     "text": [
      "(1222, 22)\n",
      "1990    449\n",
      "1989    438\n",
      "1988    335\n",
      "Name: year, dtype: int64\n"
     ]
    },
    {
     "name": "stderr",
     "output_type": "stream",
     "text": [
      "100%|███████████████████████████████████████████████████████████████████████████████████████████| 1222/1222 [00:40<00:00, 29.87it/s]\n"
     ]
    }
   ],
   "source": [
    "model = Textacy(\"sgrank\")\n",
    "all_scores, all_scores_adjust = eval_file(\"Datasets/DataFiles/bib_tug_dataset_full.parquet\", model,model_param = [\"\"] ,year1=1988, year2=1990, types=[\"compsci\"] , log=True)\n"
   ]
  },
  {
   "cell_type": "code",
   "execution_count": 5,
   "metadata": {},
   "outputs": [
    {
     "name": "stdout",
     "output_type": "stream",
     "text": [
      "[0.08915327576725837, 0.07871466055706033, 0.127317953913698, 0.39246493043297753] [0.13174548782054268, 0.17636347437482866, 0.13830885889709352, 0.5866766935226988]\n"
     ]
    }
   ],
   "source": [
    "print(all_scores, all_scores_adjust )"
   ]
  },
  {
   "cell_type": "markdown",
   "metadata": {},
   "source": [
    "Other models such as `KeyBert` are called as follows:"
   ]
  },
  {
   "cell_type": "code",
   "execution_count": null,
   "metadata": {},
   "outputs": [
    {
     "name": "stderr",
     "output_type": "stream",
     "text": [
      "Exception when trying to download https://sbert.net/models/allenai/scibert_scivocab_uncased.zip. Response 404\n",
      "WARNING:sentence_transformers.SentenceTransformer:SentenceTransformer-Model https://sbert.net/models/allenai/scibert_scivocab_uncased.zip not found. Try to create it from scratch\n",
      "WARNING:sentence_transformers.SentenceTransformer:Try to create Transformer Model allenai/scibert_scivocab_uncased with mean pooling\n",
      "  0%|                                                                                                      | 0/1222 [00:00<?, ?it/s]"
     ]
    },
    {
     "name": "stdout",
     "output_type": "stream",
     "text": [
      "(1222, 22)\n",
      "1990    449\n",
      "1989    438\n",
      "1988    335\n",
      "Name: year, dtype: int64\n"
     ]
    },
    {
     "name": "stderr",
     "output_type": "stream",
     "text": [
      " 49%|█████████████████████████████████████████████▏                                              | 601/1222 [29:54<26:15,  2.54s/it]"
     ]
    }
   ],
   "source": [
    "model = keyBert()\n",
    "all_scores, all_scores_adjust = eval_file(\"Datasets/DataFiles/bib_tug_dataset_full.parquet\", model,model_param = [\"\"] ,year1=1988, year2=1990, types=[\"compsci\"] , log=True)\n"
   ]
  },
  {
   "cell_type": "code",
   "execution_count": null,
   "metadata": {},
   "outputs": [],
   "source": [
    "print(all_scores, all_scores_adjust )"
   ]
  },
  {
   "cell_type": "code",
   "execution_count": null,
   "metadata": {},
   "outputs": [],
   "source": []
  }
 ],
 "metadata": {
  "kernelspec": {
   "display_name": "Python 3",
   "language": "python",
   "name": "python3"
  },
  "language_info": {
   "codemirror_mode": {
    "name": "ipython",
    "version": 3
   },
   "file_extension": ".py",
   "mimetype": "text/x-python",
   "name": "python",
   "nbconvert_exporter": "python",
   "pygments_lexer": "ipython3",
   "version": "3.7.3"
  }
 },
 "nbformat": 4,
 "nbformat_minor": 4
}
